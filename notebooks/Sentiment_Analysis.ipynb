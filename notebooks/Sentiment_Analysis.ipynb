{
 "cells": [
  {
   "cell_type": "code",
   "execution_count": 1,
   "metadata": {},
   "outputs": [],
   "source": [
    "import pandas as pd\n",
    "import codecs\n",
    "import pickle\n",
    "from functools import reduce\n",
    "from vaderSentiment.vaderSentiment import SentimentIntensityAnalyzer\n",
    "from nltk import tokenize"
   ]
  },
  {
   "cell_type": "code",
   "execution_count": 2,
   "metadata": {},
   "outputs": [],
   "source": [
    "with open('../settings/week_dict.pkl', 'rb') as handle:\n",
    "    week_dict = pickle.load(handle)"
   ]
  },
  {
   "cell_type": "code",
   "execution_count": 3,
   "metadata": {},
   "outputs": [],
   "source": [
    "#Function to load the 'source' article dictionaries retrieved from the Event Registry API\n",
    "#returns dataframe composed of all articles and metadata\n",
    "\n",
    "def load_source_articles(week_dict, pages, keyword):\n",
    "    df = pd.DataFrame()\n",
    "    for i in range(len(week_dict)):\n",
    "        for page_num in range(1, pages+1):\n",
    "            file_name = keyword+'_'+week_dict[i]['first']+'_page_'+str(page_num)+'_by_Source'\n",
    "            with open('../data/'+file_name+'.pkl', 'rb') as handle:\n",
    "                temp_data = pickle.load(handle)\n",
    "            temp_df = pd.DataFrame.from_dict(reduce(dict.get, ['articles', 'results'], temp_data))\n",
    "            df = pd.concat([df, temp_df])\n",
    "    return df"
   ]
  },
  {
   "cell_type": "code",
   "execution_count": 4,
   "metadata": {},
   "outputs": [],
   "source": [
    "#Function to load the 'share' article dictionaries retrieved from the Event Registry API\n",
    "#returns dataframe composed of all articles and metadata\n",
    "\n",
    "def load_share_articles(week_dict, keyword):\n",
    "    df = pd.DataFrame()\n",
    "    for i in range(len(week_dict)):\n",
    "        file_name = keyword+'_'+week_dict[i]['first']+'_'+'by_Shares'\n",
    "        with open('../data/'+file_name+'.pkl', 'rb') as handle:\n",
    "            temp_data = pickle.load(handle)\n",
    "        temp_df = pd.DataFrame.from_dict(reduce(dict.get, ['articles', 'results'], temp_data))\n",
    "        df = pd.concat([df, temp_df])\n",
    "    return df"
   ]
  },
  {
   "cell_type": "code",
   "execution_count": 19,
   "metadata": {},
   "outputs": [],
   "source": [
    "trump_source = load_source_articles(week_dict, 3, 'Trump')\n",
    "trump_shares = load_share_articles(week_dict, 'Trump')\n",
    "clinton_source = load_source_articles(week_dict, 3, 'Clinton')\n",
    "clinton_shares = load_share_articles(week_dict, 'Clinton')"
   ]
  },
  {
   "cell_type": "markdown",
   "metadata": {},
   "source": [
    "## Remove Articles that Have Opposing Candidate Name in Title"
   ]
  },
  {
   "cell_type": "code",
   "execution_count": 6,
   "metadata": {},
   "outputs": [
    {
     "data": {
      "text/plain": [
       "13380"
      ]
     },
     "execution_count": 6,
     "metadata": {},
     "output_type": "execute_result"
    }
   ],
   "source": [
    "len(trump_source)"
   ]
  },
  {
   "cell_type": "code",
   "execution_count": 7,
   "metadata": {},
   "outputs": [
    {
     "data": {
      "text/plain": [
       "4500"
      ]
     },
     "execution_count": 7,
     "metadata": {},
     "output_type": "execute_result"
    }
   ],
   "source": [
    "len(trump_shares)"
   ]
  },
  {
   "cell_type": "code",
   "execution_count": 8,
   "metadata": {},
   "outputs": [
    {
     "data": {
      "text/plain": [
       "13223"
      ]
     },
     "execution_count": 8,
     "metadata": {},
     "output_type": "execute_result"
    }
   ],
   "source": [
    "len(clinton_source)"
   ]
  },
  {
   "cell_type": "code",
   "execution_count": 9,
   "metadata": {},
   "outputs": [
    {
     "data": {
      "text/plain": [
       "4500"
      ]
     },
     "execution_count": 9,
     "metadata": {},
     "output_type": "execute_result"
    }
   ],
   "source": [
    "len(clinton_shares)"
   ]
  },
  {
   "cell_type": "code",
   "execution_count": 20,
   "metadata": {},
   "outputs": [],
   "source": [
    "trump_source = trump_source[~trump_source['title'].str.contains('Clinton')]\n",
    "trump_source = trump_source[~trump_source['title'].str.contains('clinton')]\n",
    "trump_shares = trump_shares[~trump_shares['title'].str.contains('Clinton')]\n",
    "trump_shares = trump_shares[~trump_shares['title'].str.contains('clinton')]\n",
    "clinton_source = clinton_source[~clinton_source['title'].str.contains('Trump')]\n",
    "clinton_source = clinton_source[~clinton_source['title'].str.contains('trump')]\n",
    "clinton_shares = clinton_shares[~clinton_shares['title'].str.contains('Trump')]\n",
    "clinton_shares = clinton_shares[~clinton_shares['title'].str.contains('trump')]"
   ]
  },
  {
   "cell_type": "code",
   "execution_count": 21,
   "metadata": {},
   "outputs": [
    {
     "data": {
      "text/plain": [
       "11925"
      ]
     },
     "execution_count": 21,
     "metadata": {},
     "output_type": "execute_result"
    }
   ],
   "source": [
    "len(trump_source)"
   ]
  },
  {
   "cell_type": "code",
   "execution_count": 22,
   "metadata": {},
   "outputs": [
    {
     "data": {
      "text/plain": [
       "4045"
      ]
     },
     "execution_count": 22,
     "metadata": {},
     "output_type": "execute_result"
    }
   ],
   "source": [
    "len(trump_shares)"
   ]
  },
  {
   "cell_type": "code",
   "execution_count": 23,
   "metadata": {},
   "outputs": [
    {
     "data": {
      "text/plain": [
       "9134"
      ]
     },
     "execution_count": 23,
     "metadata": {},
     "output_type": "execute_result"
    }
   ],
   "source": [
    "len(clinton_source)"
   ]
  },
  {
   "cell_type": "code",
   "execution_count": 24,
   "metadata": {},
   "outputs": [
    {
     "data": {
      "text/plain": [
       "3526"
      ]
     },
     "execution_count": 24,
     "metadata": {},
     "output_type": "execute_result"
    }
   ],
   "source": [
    "len(clinton_shares)"
   ]
  },
  {
   "cell_type": "markdown",
   "metadata": {},
   "source": [
    "## Sentiment Analysis Using VaderSentiment"
   ]
  },
  {
   "cell_type": "code",
   "execution_count": 25,
   "metadata": {},
   "outputs": [],
   "source": [
    "#Function to determine overall sentiment score for each article body\n",
    "#Sentence sentiment scores are weighted based on sentence length before averaging for overall article sentiment\n",
    "\n",
    "def article_analyzer(article):\n",
    "    analyzer = SentimentIntensityAnalyzer()\n",
    "    sentence_list = tokenize.sent_tokenize(article)\n",
    "    paragraphSentiments = 0.0\n",
    "    characterCount = 0\n",
    "    for sentence in sentence_list:\n",
    "        dec_sent = bytes(sentence, 'utf-8').decode('unicode_escape')\n",
    "        vs = analyzer.polarity_scores(dec_sent)\n",
    "        paragraphSentiments += (vs[\"compound\"]*len(dec_sent))\n",
    "        characterCount += len(dec_sent)\n",
    "    return paragraphSentiments/characterCount"
   ]
  },
  {
   "cell_type": "code",
   "execution_count": 26,
   "metadata": {},
   "outputs": [
    {
     "name": "stderr",
     "output_type": "stream",
     "text": [
      "/Users/christophermclaughlin/anaconda3/envs/news_sentiment/lib/python3.7/site-packages/ipykernel_launcher.py:10: DeprecationWarning: invalid escape sequence '\\_'\n",
      "  # Remove the CWD from sys.path while we load stuff.\n",
      "/Users/christophermclaughlin/anaconda3/envs/news_sentiment/lib/python3.7/site-packages/ipykernel_launcher.py:10: DeprecationWarning: invalid escape sequence '\\o'\n",
      "  # Remove the CWD from sys.path while we load stuff.\n",
      "/Users/christophermclaughlin/anaconda3/envs/news_sentiment/lib/python3.7/site-packages/ipykernel_launcher.py:10: DeprecationWarning: invalid escape sequence '\\('\n",
      "  # Remove the CWD from sys.path while we load stuff.\n"
     ]
    }
   ],
   "source": [
    "trump_source['articleSentiment'] = trump_source['body'].apply(article_analyzer)\n",
    "trump_shares['articleSentiment'] = trump_shares['body'].apply(article_analyzer)\n",
    "clinton_source['articleSentiment'] = clinton_source['body'].apply(article_analyzer)\n",
    "clinton_shares['articleSentiment'] = clinton_shares['body'].apply(article_analyzer)"
   ]
  },
  {
   "cell_type": "code",
   "execution_count": 27,
   "metadata": {},
   "outputs": [],
   "source": [
    "#Function to determine sentiment score for each article title\n",
    "\n",
    "def title_analyzer(article):\n",
    "    analyzer = SentimentIntensityAnalyzer()\n",
    "    dec_art = bytes(article, 'utf-8').decode('unicode_escape')\n",
    "    vs = analyzer.polarity_scores(dec_art)\n",
    "    return vs['compound']"
   ]
  },
  {
   "cell_type": "code",
   "execution_count": 28,
   "metadata": {},
   "outputs": [
    {
     "name": "stderr",
     "output_type": "stream",
     "text": [
      "/Users/christophermclaughlin/anaconda3/envs/news_sentiment/lib/python3.7/site-packages/ipykernel_launcher.py:5: DeprecationWarning: invalid escape sequence '\\_'\n",
      "  \"\"\"\n"
     ]
    }
   ],
   "source": [
    "trump_shares['titleSentiment'] = trump_shares['title'].apply(title_analyzer)\n",
    "trump_source['titleSentiment'] = trump_source['title'].apply(title_analyzer)\n",
    "clinton_shares['titleSentiment'] = clinton_shares['title'].apply(title_analyzer)\n",
    "clinton_source['titleSentiment'] = clinton_source['title'].apply(title_analyzer)"
   ]
  },
  {
   "cell_type": "code",
   "execution_count": 29,
   "metadata": {},
   "outputs": [],
   "source": [
    "trump_source['origin'] = 'trump_source'\n",
    "trump_shares['origin'] = 'trump_shares'\n",
    "clinton_source['origin'] = 'clinton_source'\n",
    "clinton_shares['origin'] = 'clinton_shares'"
   ]
  },
  {
   "cell_type": "code",
   "execution_count": 32,
   "metadata": {},
   "outputs": [],
   "source": [
    "#Combine all dataframes - 'origin' column identifies the original source\n",
    "\n",
    "frames = [trump_source, trump_shares, clinton_source, clinton_shares]\n",
    "df = pd.concat(frames)"
   ]
  },
  {
   "cell_type": "code",
   "execution_count": 33,
   "metadata": {},
   "outputs": [],
   "source": [
    "with open('../data/sentiment_df.pkl', 'wb') as f:\n",
    "        pickle.dump(df, f, pickle.HIGHEST_PROTOCOL)   "
   ]
  },
  {
   "cell_type": "code",
   "execution_count": null,
   "metadata": {},
   "outputs": [],
   "source": []
  }
 ],
 "metadata": {
  "kernelspec": {
   "display_name": "Python 3",
   "language": "python",
   "name": "python3"
  },
  "language_info": {
   "codemirror_mode": {
    "name": "ipython",
    "version": 3
   },
   "file_extension": ".py",
   "mimetype": "text/x-python",
   "name": "python",
   "nbconvert_exporter": "python",
   "pygments_lexer": "ipython3",
   "version": "3.7.1"
  }
 },
 "nbformat": 4,
 "nbformat_minor": 2
}
