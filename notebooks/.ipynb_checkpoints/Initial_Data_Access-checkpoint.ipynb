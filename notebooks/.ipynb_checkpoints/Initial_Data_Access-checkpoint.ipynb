{
 "cells": [
  {
   "cell_type": "code",
   "execution_count": 9,
   "metadata": {
    "collapsed": true
   },
   "outputs": [],
   "source": [
    "from eventregistry import *\n",
    "import datetime\n",
    "from time import strftime\n",
    "import pickle"
   ]
  },
  {
   "cell_type": "code",
   "execution_count": 10,
   "metadata": {},
   "outputs": [
    {
     "name": "stdout",
     "output_type": "stream",
     "text": [
      "found apiKey in settings file which will be used for making requests\n",
      "Event Registry host: http://eventregistry.org\n",
      "Text analytics host: http://analytics.eventregistry.org\n"
     ]
    }
   ],
   "source": [
    "er = EventRegistry()"
   ]
  },
  {
   "cell_type": "markdown",
   "metadata": {},
   "source": [
    "### Get List of URIs Corresponding to Top 20 US News Sites per Alexa Global Rank (as of 1/12/2019)"
   ]
  },
  {
   "cell_type": "code",
   "execution_count": 11,
   "metadata": {
    "collapsed": true
   },
   "outputs": [],
   "source": [
    "def getUri (site_list):\n",
    "    uris = []\n",
    "    for site in site_list:\n",
    "        uri = er.getNewsSourceUri(site)\n",
    "        uris.append(uri)\n",
    "    return uris       "
   ]
  },
  {
   "cell_type": "code",
   "execution_count": 12,
   "metadata": {
    "collapsed": true
   },
   "outputs": [],
   "source": [
    "site_list = ('CNN.com', 'Nytimes', 'theguardian', 'news.yahoo.com', 'foxnews', 'washingtonpost', 'forbes',\n",
    "             'huffingtonpost', 'cnbc', 'usatoday', 'bloomberg', 'wsj', 'reuters', 'nbcnews', 'nypost',\n",
    "             'usnews', 'thehill', 'cbsnews', 'time.com', 'thedailybeast')"
   ]
  },
  {
   "cell_type": "code",
   "execution_count": 13,
   "metadata": {
    "collapsed": true
   },
   "outputs": [],
   "source": [
    "uri_list = getUri(site_list)"
   ]
  },
  {
   "cell_type": "markdown",
   "metadata": {},
   "source": [
    "### Get News Articles from the EventRegistry API (Note: API Key in Settings File, See Documentation"
   ]
  },
  {
   "cell_type": "code",
   "execution_count": 15,
   "metadata": {
    "collapsed": true
   },
   "outputs": [],
   "source": [
    "#Function to create dictionary of first and last days of each week\n",
    "\n",
    "def weekdict (start_date, no_weeks):\n",
    "    dictionary = {}\n",
    "    i = 0\n",
    "    delta = datetime.timedelta(days=7)\n",
    "    first_of_week = datetime.datetime.strptime(start_date, '%Y-%m-%d')\n",
    "    last_of_week = first_of_week + datetime.timedelta(days=6)\n",
    "    for x in range (no_weeks):\n",
    "        dictionary[i] = {}\n",
    "        dictionary[i]['first'] = first_of_week.strftime('%Y-%m-%d')\n",
    "        dictionary[i]['last'] = last_of_week.strftime('%Y-%m-%d')\n",
    "        first_of_week += delta\n",
    "        last_of_week += delta\n",
    "        i += 1\n",
    "    return dictionary    "
   ]
  },
  {
   "cell_type": "code",
   "execution_count": 16,
   "metadata": {
    "collapsed": true
   },
   "outputs": [],
   "source": [
    "#Helper function to save pickle files\n",
    "\n",
    "def picklesave(obj, file_name):\n",
    "    with open('../data/'+file_name+'.pkl', 'wb') as f:\n",
    "        pickle.dump(obj, f, pickle.HIGHEST_PROTOCOL)    "
   ]
  },
  {
   "cell_type": "code",
   "execution_count": 17,
   "metadata": {},
   "outputs": [],
   "source": [
    "#Function to return top weekly news articles for each keyword from the top news sites, ranked by relevance\n",
    "\n",
    "def top_by_source(week_dict, pages, keyword, source_uri_list):\n",
    "    for i in range(len(week_dict)):\n",
    "        for page_num in range(1, pages+1):\n",
    "            file_name = keyword+'_'+week_dict[i]['first']+'_page_'+str(page_num)+'_by_Source'\n",
    "            q = QueryArticles(keywords = keyword, keywordsLoc = 'title', categoryUri = er.getCategoryUri('Politics'),\n",
    "                              sourceLocationUri = er.getLocationUri('United States'), lang = 'eng', \n",
    "                              sourceUri = QueryItems.OR(source_uri_list), dateStart=week_dict[i]['first'], \n",
    "                              dateEnd=week_dict[i]['last'], dataType = 'news', isDuplicateFilter = 'skipDuplicates')\n",
    "            \n",
    "            q.setRequestedResult(RequestArticlesInfo(page = page_num, sortBy = \"rel\",\n",
    "                    returnInfo = ReturnInfo(articleInfo = ArticleInfoFlags(socialScore= True, sentiment=True))))\n",
    "            \n",
    "            ret = er.execQuery(q)\n",
    "            picklesave(ret, file_name)"
   ]
  },
  {
   "cell_type": "code",
   "execution_count": 18,
   "metadata": {},
   "outputs": [],
   "source": [
    "#Function to return top weekly news articles for each keyword according to total facebook shares\n",
    "\n",
    "def top_by_shares(week_dict, keyword):\n",
    "    for i in range(len(week_dict)):\n",
    "        file_name = keyword+'_'+week_dict[i]['first']+'_'+'by_Shares'\n",
    "        q = QueryArticles(keywords = keyword, keywordsLoc = 'title', categoryUri = er.getCategoryUri('Politics'),\n",
    "                          sourceLocationUri = er.getLocationUri('United States'), lang = 'eng', \n",
    "                          dateStart=week_dict[i]['first'], dateEnd=week_dict[i]['last'], dataType = 'news', \n",
    "                          isDuplicateFilter = 'skipDuplicates')\n",
    "        \n",
    "        q.setRequestedResult(RequestArticlesInfo(page = 1, sortBy = \"facebookShares\",\n",
    "                returnInfo = ReturnInfo(articleInfo = ArticleInfoFlags(socialScore= True, sentiment=True))))\n",
    "        \n",
    "        ret = er.execQuery(q)\n",
    "        picklesave(ret, file_name)"
   ]
  },
  {
   "cell_type": "code",
   "execution_count": 43,
   "metadata": {
    "collapsed": true
   },
   "outputs": [],
   "source": [
    "weeks = weekdict('2016-01-03', 45)"
   ]
  },
  {
   "cell_type": "code",
   "execution_count": null,
   "metadata": {
    "collapsed": true
   },
   "outputs": [],
   "source": []
  },
  {
   "cell_type": "code",
   "execution_count": 62,
   "metadata": {},
   "outputs": [],
   "source": [
    "#top_by_source(week_dict = weeks, pages = 3, keyword = 'Trump', source_uri_list = uri_list)"
   ]
  },
  {
   "cell_type": "code",
   "execution_count": 63,
   "metadata": {
    "collapsed": true
   },
   "outputs": [],
   "source": [
    "#top_by_shares(week_dict = weeks, keyword = 'Trump')"
   ]
  },
  {
   "cell_type": "code",
   "execution_count": null,
   "metadata": {
    "collapsed": true
   },
   "outputs": [],
   "source": []
  },
  {
   "cell_type": "code",
   "execution_count": 64,
   "metadata": {
    "collapsed": true
   },
   "outputs": [],
   "source": [
    "#top_by_source(week_dict = weeks, pages = 3, keyword = 'Clinton', source_uri_list = uri_list)"
   ]
  },
  {
   "cell_type": "code",
   "execution_count": 65,
   "metadata": {
    "collapsed": true
   },
   "outputs": [],
   "source": [
    "#top_by_shares(week_dict = weeks, keyword = 'Clinton')"
   ]
  }
 ],
 "metadata": {
  "kernelspec": {
   "display_name": "Python 3",
   "language": "python",
   "name": "python3"
  },
  "language_info": {
   "codemirror_mode": {
    "name": "ipython",
    "version": 3
   },
   "file_extension": ".py",
   "mimetype": "text/x-python",
   "name": "python",
   "nbconvert_exporter": "python",
   "pygments_lexer": "ipython3",
   "version": "3.6.1"
  }
 },
 "nbformat": 4,
 "nbformat_minor": 2
}
